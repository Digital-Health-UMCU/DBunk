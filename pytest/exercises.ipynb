{
  "nbformat": 4,
  "nbformat_minor": 5,
  "metadata": {
    "kernelspec": {
      "display_name": "Python 3",
      "language": "python",
      "name": "python3"
    },
    "language_info": {
      "codemirror_mode": {
        "name": "ipython",
        "version": 3
      },
      "file_extension": ".py",
      "mimetype": "text/x-python",
      "name": "python",
      "nbconvert_exporter": "python",
      "pygments_lexer": "ipython3",
      "version": "3.8.10"
    },
    "colab": {
      "name": "exercises.ipynb",
      "provenance": []
    }
  },
  "cells": [
    {
      "cell_type": "markdown",
      "metadata": {
        "id": "fef8f774"
      },
      "source": [
        "# An introduction into software testing - hands-on exercises"
      ],
      "id": "fef8f774"
    },
    {
      "cell_type": "markdown",
      "metadata": {
        "id": "9bb4dd22"
      },
      "source": [
        "## How to use it?\n",
        "Just press the button below and get started!'\n",
        "\n",
        "Please note that if you want to run this notebook elsewhere than Colab, you might need to remove the `#@title` flags."
      ],
      "id": "9bb4dd22"
    },
    {
      "cell_type": "markdown",
      "metadata": {
        "id": "c6e89b7a"
      },
      "source": [
        "<table class=\"tfo-notebook-buttons\" align=\"left\">\n",
        "  <td>\n",
        "    <a target=\"_blank\" href=\"https://colab.research.google.com/github/Digital-Health-UMCU/DBunk/blob/main/20211101%20PyTest/exercises.ipynb\"><img src=\"https://www.tensorflow.org/images/colab_logo_32px.png\" />Run in Google Colab</a>\n",
        "  </td>\n",
        "  <td>\n",
        "    <a target=\"_blank\" href=\"https://github.com/Digital-Health-UMCU/DBunk/blob/main/20211101%20PyTest/exercises.ipynb\"><img src=\"https://www.tensorflow.org/images/GitHub-Mark-32px.png\" />View source on GitHub</a>\n",
        "  </td>\n",
        "</table>"
      ],
      "id": "c6e89b7a"
    },
    {
      "cell_type": "markdown",
      "metadata": {
        "id": "56848996"
      },
      "source": [
        "## Initialize"
      ],
      "id": "56848996"
    },
    {
      "cell_type": "code",
      "metadata": {
        "id": "a64e32fe"
      },
      "source": [
        "pip -q install pytest-sugar"
      ],
      "id": "a64e32fe",
      "execution_count": null,
      "outputs": []
    },
    {
      "cell_type": "code",
      "metadata": {
        "id": "d1c461ce"
      },
      "source": [
        "# DONT RUN IN COLAB\n",
        "# pip -q install pytest pytest-mock"
      ],
      "id": "d1c461ce",
      "execution_count": null,
      "outputs": []
    },
    {
      "cell_type": "code",
      "metadata": {
        "id": "46acf871",
        "outputId": "2ef08c42-5128-44d3-8ee3-f7f4abc818d8"
      },
      "source": [
        "!mkdir src tests"
      ],
      "id": "46acf871",
      "execution_count": null,
      "outputs": [
        {
          "name": "stdout",
          "output_type": "stream",
          "text": [
            "mkdir: src: File exists\r\n",
            "mkdir: tests: File exists\r\n"
          ]
        }
      ]
    },
    {
      "cell_type": "markdown",
      "metadata": {
        "id": "42ca9109"
      },
      "source": [
        "# The code we'll be working with\n",
        "\n",
        "A colleague asked you to write some tests for code he has written. Unfortunately his coding skills proved to be terrible, but that gives us a perfect case to see how tests behave if code is bugged.\n",
        "\n",
        "We'll be using the following installable packages:\n",
        "\n",
        "- `pytest`\n",
        "- `pytest-mock` which enables mocking functionality\n",
        "- `pytest-sugar` which beautifies `pytest`'s output\n",
        "\n",
        "I'll walk you through the files he has written."
      ],
      "id": "42ca9109"
    },
    {
      "cell_type": "markdown",
      "metadata": {
        "id": "35498c7b"
      },
      "source": [
        "## Helpers file\n",
        "\n",
        "A `helpers` script is present, which contains a function that converts input to float. It does not check the input, so e.g. `1.1` and `1` will be correctly converted, but most other input will result in an unexpected error."
      ],
      "id": "35498c7b"
    },
    {
      "cell_type": "code",
      "metadata": {
        "id": "4c339159",
        "outputId": "693c9303-6095-47d8-931e-7fff5f244521"
      },
      "source": [
        "%%file src/helpers.py\n",
        "\n",
        "def process_one_number(x):\n",
        "    # Try converting input to floating point integer\n",
        "    return float(x)"
      ],
      "id": "4c339159",
      "execution_count": null,
      "outputs": [
        {
          "name": "stdout",
          "output_type": "stream",
          "text": [
            "Overwriting src/helpers.py\n"
          ]
        }
      ]
    },
    {
      "cell_type": "markdown",
      "metadata": {
        "id": "e60caf42"
      },
      "source": [
        "## Sum script file\n",
        "\n",
        "The `my_sum_func()` we all know and love from the presentation is present in a script called `my_sum_script`. Your colleague extended the functionality.\n",
        "\n",
        "- The function checks if the input is a list, and throws a specific error if this isn't the case\n",
        "- All numbers are processed by the function `process_one_number()` we saw just now"
      ],
      "id": "e60caf42"
    },
    {
      "cell_type": "code",
      "metadata": {
        "id": "7ddec03f",
        "outputId": "7d6a9c60-4188-413c-f5e3-be5ca43339c7"
      },
      "source": [
        "%%file src/my_sum_script.py\n",
        "\n",
        "from src.helpers import process_one_number\n",
        "\n",
        "def my_sum_func(x):\n",
        "    # Check if input is of type list\n",
        "    if not isinstance(x, list):\n",
        "        raise TypeError(\"Hold on there, cowboy!\")\n",
        "    # Loop over input\n",
        "    out = 0\n",
        "    for i in x:\n",
        "        # Convert all numbers to float\n",
        "        i = process_one_number(i)\n",
        "        # Add current value to output\n",
        "        out = out + i\n",
        "    return out"
      ],
      "id": "7ddec03f",
      "execution_count": null,
      "outputs": [
        {
          "name": "stdout",
          "output_type": "stream",
          "text": [
            "Overwriting src/my_sum_script.py\n"
          ]
        }
      ]
    },
    {
      "cell_type": "markdown",
      "metadata": {
        "id": "f8d5e1b1"
      },
      "source": [
        "# Exercise 1\n",
        "\n",
        "Write a test that checks if the list of `[2, 4]` is correctly summed to 6. Save your test to the file `first_test.py` and run `pytest`.\n",
        "\n",
        "Please note that some variable names like `in` and `input` are protected by Python. If you're unfamiliar with python, you may stick to `a` through `z` for variable names.\n",
        "\n",
        "If you get an error like the following, your Python code itself is incorrect.\n",
        "```bash\n",
        "――――――――――――――――――――― ERROR collecting tests/first_test.py ―――――――――――――――――――――\n",
        "...\n",
        "E   SyntaxError: invalid syntax\n",
        "\n",
        "=========================== short test summary info ============================\n",
        "FAILED tests/first_test.py\n",
        "!!!!!!!!!!!!!!!!!!!! Interrupted: 1 error during collection !!!!!!!!!!!!!!!!!!!!\n",
        "```"
      ],
      "id": "f8d5e1b1"
    },
    {
      "cell_type": "markdown",
      "metadata": {
        "id": "0bd0ae76"
      },
      "source": [
        "### Write test"
      ],
      "id": "0bd0ae76"
    },
    {
      "cell_type": "code",
      "metadata": {
        "id": "3c68622c",
        "outputId": "d69e227e-2f44-4931-e67e-79e61a7da60c"
      },
      "source": [
        "%%file tests/first_test.py\n",
        "\n",
        "from src.my_sum_script import my_sum_func\n",
        "\n",
        "def test_my_sum_func():\n",
        "    # your code here\n",
        "    assert # your code here"
      ],
      "id": "3c68622c",
      "execution_count": null,
      "outputs": [
        {
          "name": "stdout",
          "output_type": "stream",
          "text": [
            "Overwriting tests/first_test.py\n"
          ]
        }
      ]
    },
    {
      "cell_type": "markdown",
      "metadata": {
        "id": "29ce0367"
      },
      "source": [
        "### Example"
      ],
      "id": "29ce0367"
    },
    {
      "cell_type": "code",
      "metadata": {
        "cellView": "form",
        "id": "3b3c2790",
        "outputId": "db908be4-51bd-48d8-f5b0-b37406237be1"
      },
      "source": [
        "#@title\n",
        "%%file tests/first_test.py\n",
        "\n",
        "from src.my_sum_script import my_sum_func\n",
        "\n",
        "def test_my_sum_func():\n",
        "    x = [2, 4]\n",
        "    y = my_sum_func(x)\n",
        "    assert y == 6"
      ],
      "id": "3b3c2790",
      "execution_count": null,
      "outputs": [
        {
          "name": "stdout",
          "output_type": "stream",
          "text": [
            "Overwriting tests/first_test.py\n"
          ]
        }
      ]
    },
    {
      "cell_type": "markdown",
      "metadata": {
        "id": "fdbd5418"
      },
      "source": [
        "### Run pytest"
      ],
      "id": "fdbd5418"
    },
    {
      "cell_type": "code",
      "metadata": {
        "scrolled": false,
        "id": "5610aa29",
        "outputId": "928cce3f-7556-4c33-a246-d1245cc6d8b9"
      },
      "source": [
        "!python -m pytest tests/first_test.py"
      ],
      "id": "5610aa29",
      "execution_count": null,
      "outputs": [
        {
          "name": "stdout",
          "output_type": "stream",
          "text": [
            "\u001b[1mTest session starts (platform: darwin, Python 3.8.10, pytest 6.2.5, pytest-sugar 0.9.4)\u001b[0m\n",
            "rootdir: /Users/tsentne3/Downloads\n",
            "plugins: sugar-0.9.4, mock-3.6.1\n",
            "\u001b[1mcollecting ... \u001b[0m\n",
            " \u001b[36mtests/\u001b[0mfirst_test.py\u001b[0m \u001b[32m✓\u001b[0m                                           \u001b[32m100% \u001b[0m\u001b[40m\u001b[32m█\u001b[0m\u001b[40m\u001b[32m█████████\u001b[0m\n",
            "\n",
            "Results (0.02s):\n",
            "\u001b[32m       1 passed\u001b[0m\n"
          ]
        }
      ]
    },
    {
      "cell_type": "markdown",
      "metadata": {
        "id": "8f488ac8"
      },
      "source": [
        "# Exercise 2\n",
        "\n",
        "Now let's write a second test, but one we know will fail. Write a test that checks if the list of `[2, 4]` is correctly summed to 112. Save your test to the file `second_test.py` and run `pytest` again.\n",
        "\n",
        "In practice, you will never write tests that fail, but it will learn you what a failed test looks like. \n",
        "\n",
        "Thinking about outcome that should not be true (like `2+4 != 112`) is however good practice, but you would always rather check for a specific error message, or just check that the outcome is not what it can't be (`!= 112` rather than `== 112` and have the test fail). A succeeded test verifies that everything is as expected, even if you tested for weird things like `2+4 == 112`."
      ],
      "id": "8f488ac8"
    },
    {
      "cell_type": "markdown",
      "metadata": {
        "id": "8a8e15b3"
      },
      "source": [
        "### Write test"
      ],
      "id": "8a8e15b3"
    },
    {
      "cell_type": "code",
      "metadata": {
        "id": "469e987d",
        "outputId": "5f6a9ae4-c842-4863-8925-8d37a9059026"
      },
      "source": [
        "%%file tests/second_test.py\n",
        "\n",
        "from src.my_sum_script import my_sum_func\n",
        "\n",
        "def test_my_sum_func():\n",
        "    # your code here\n",
        "    assert # your code here"
      ],
      "id": "469e987d",
      "execution_count": null,
      "outputs": [
        {
          "name": "stdout",
          "output_type": "stream",
          "text": [
            "Overwriting tests/second_test.py\n"
          ]
        }
      ]
    },
    {
      "cell_type": "markdown",
      "metadata": {
        "id": "af989499"
      },
      "source": [
        "### Example"
      ],
      "id": "af989499"
    },
    {
      "cell_type": "code",
      "metadata": {
        "cellView": "form",
        "id": "4a099d01",
        "outputId": "3697d219-3d74-4e3d-fe9d-bd58d84daa01"
      },
      "source": [
        "#@title\n",
        "%%file tests/second_test.py\n",
        "\n",
        "from src.my_sum_script import my_sum_func\n",
        "\n",
        "def test_my_sum_func():\n",
        "    x = [2, 4]\n",
        "    y = my_sum_func(x)\n",
        "    assert y == 112"
      ],
      "id": "4a099d01",
      "execution_count": null,
      "outputs": [
        {
          "name": "stdout",
          "output_type": "stream",
          "text": [
            "Overwriting tests/second_test.py\n"
          ]
        }
      ]
    },
    {
      "cell_type": "markdown",
      "metadata": {
        "id": "e5c1d05b"
      },
      "source": [
        "### Run pytest\n",
        "\n",
        "Note that pytest will the actual answer was 6, whereas 112 was expected."
      ],
      "id": "e5c1d05b"
    },
    {
      "cell_type": "code",
      "metadata": {
        "id": "9d91dacf",
        "outputId": "905ad288-5233-4150-df84-aa6e78579990"
      },
      "source": [
        "!python -m pytest tests/second_test.py"
      ],
      "id": "9d91dacf",
      "execution_count": null,
      "outputs": [
        {
          "name": "stdout",
          "output_type": "stream",
          "text": [
            "\u001b[1mTest session starts (platform: darwin, Python 3.8.10, pytest 6.2.5, pytest-sugar 0.9.4)\u001b[0m\n",
            "rootdir: /Users/tsentne3/Downloads\n",
            "plugins: sugar-0.9.4, mock-3.6.1\n",
            "\u001b[1mcollecting ... \u001b[0m\n",
            "\n",
            "――――――――――――――――――――――――――――――― test_my_sum_func ―――――――――――――――――――――――――――――――\n",
            "\n",
            "    \u001b[94mdef\u001b[39;49;00m \u001b[92mtest_my_sum_func\u001b[39;49;00m():\n",
            "        x = [\u001b[94m2\u001b[39;49;00m, \u001b[94m4\u001b[39;49;00m]\n",
            "        y = my_sum_func(x)\n",
            ">       \u001b[94massert\u001b[39;49;00m y == \u001b[94m112\u001b[39;49;00m\n",
            "\u001b[1m\u001b[31mE       assert 6.0 == 112\u001b[0m\n",
            "\n",
            "\u001b[1m\u001b[31mtests/second_test.py\u001b[0m:7: AssertionError\n",
            "\n",
            " \u001b[36mtests/\u001b[0msecond_test.py\u001b[0m \u001b[31m⨯\u001b[0m                                          \u001b[31m100% \u001b[0m\u001b[40m\u001b[31m█\u001b[0m\u001b[40m\u001b[31m█████████\u001b[0m\n",
            "=========================== short test summary info ============================\n",
            "FAILED tests/second_test.py::test_my_sum_func - assert 6.0 == 112\n",
            "\n",
            "Results (0.07s):\n",
            "\u001b[31m       1 failed\u001b[0m\n",
            "         - \u001b[36mtests\u001b[0m/second_test.py\u001b[0m:4 \u001b[31mtest_my_sum_func\u001b[0m\n"
          ]
        }
      ]
    },
    {
      "cell_type": "markdown",
      "metadata": {
        "id": "c654c8dc"
      },
      "source": [
        "# Exercise 3\n",
        "\n",
        "Now let's combine these two tests by parameterizing the test."
      ],
      "id": "c654c8dc"
    },
    {
      "cell_type": "markdown",
      "metadata": {
        "id": "089e6260"
      },
      "source": [
        "### Write test"
      ],
      "id": "089e6260"
    },
    {
      "cell_type": "code",
      "metadata": {
        "id": "0b40a314",
        "outputId": "e19c2bf2-b3ae-4017-c38a-5997c9352822"
      },
      "source": [
        "%%file tests/third_test.py\n",
        "\n",
        "from src.my_sum_script import my_sum_func\n",
        "import pytest\n",
        "\n",
        "@pytest.mark.parametrize(\n",
        "    (\"x\", \"expected_output\"), [\n",
        "    (#your input here#, #your expected output here#),\n",
        "    (#your input here#, #your expected output here#)\n",
        "])\n",
        "def test_my_sum_func(x, expected_output):\n",
        "    y = my_sum_func(x)\n",
        "    assert y == expected_output"
      ],
      "id": "0b40a314",
      "execution_count": null,
      "outputs": [
        {
          "name": "stdout",
          "output_type": "stream",
          "text": [
            "Overwriting tests/third_test.py\n"
          ]
        }
      ]
    },
    {
      "cell_type": "markdown",
      "metadata": {
        "id": "5336ff88"
      },
      "source": [
        "### Example"
      ],
      "id": "5336ff88"
    },
    {
      "cell_type": "code",
      "metadata": {
        "cellView": "form",
        "id": "889b4cf0",
        "outputId": "d3abaece-4328-4aaa-8f5b-26c2ae11075a"
      },
      "source": [
        "#@title\n",
        "%%file tests/third_test.py\n",
        "\n",
        "from src.my_sum_script import my_sum_func\n",
        "import pytest\n",
        "\n",
        "@pytest.mark.parametrize(\n",
        "    (\"x\", \"expected_output\"), [\n",
        "    ([2, 4], 6),\n",
        "    ([2, 4], 112)\n",
        "])\n",
        "def test_my_sum_func(x, expected_output):\n",
        "    y = my_sum_func(x)\n",
        "    assert y == expected_output"
      ],
      "id": "889b4cf0",
      "execution_count": null,
      "outputs": [
        {
          "name": "stdout",
          "output_type": "stream",
          "text": [
            "Overwriting tests/third_test.py\n"
          ]
        }
      ]
    },
    {
      "cell_type": "markdown",
      "metadata": {
        "id": "879a56ec"
      },
      "source": [
        "### Run pytest\n",
        "\n",
        "Note that pytest will still clearly tell you which test failed, even though multiple were run simultaneously."
      ],
      "id": "879a56ec"
    },
    {
      "cell_type": "code",
      "metadata": {
        "scrolled": false,
        "id": "67629edf",
        "outputId": "7a509698-9898-4e7b-e105-2acfdc7b0805"
      },
      "source": [
        "!python -m pytest tests/third_test.py"
      ],
      "id": "67629edf",
      "execution_count": null,
      "outputs": [
        {
          "name": "stdout",
          "output_type": "stream",
          "text": [
            "\u001b[1mTest session starts (platform: darwin, Python 3.8.10, pytest 6.2.5, pytest-sugar 0.9.4)\u001b[0m\n",
            "rootdir: /Users/tsentne3/Downloads\n",
            "plugins: sugar-0.9.4, mock-3.6.1\n",
            "\u001b[1mcollecting ... \u001b[0m\n",
            " \u001b[36mtests/\u001b[0mthird_test.py\u001b[0m \u001b[32m✓\u001b[0m                                            \u001b[32m50% \u001b[0m\u001b[40m\u001b[32m█\u001b[0m\u001b[40m\u001b[32m████     \u001b[0m\n",
            "\n",
            "――――――――――――――――――――――――――― test_my_sum_func[x1-112] ―――――――――――――――――――――――――――\n",
            "\n",
            "x = [2, 4], expected_output = 112\n",
            "\n",
            "    \u001b[37m@pytest\u001b[39;49;00m.mark.parametrize(\n",
            "        (\u001b[33m\"\u001b[39;49;00m\u001b[33mx\u001b[39;49;00m\u001b[33m\"\u001b[39;49;00m, \u001b[33m\"\u001b[39;49;00m\u001b[33mexpected_output\u001b[39;49;00m\u001b[33m\"\u001b[39;49;00m), [\n",
            "        ([\u001b[94m2\u001b[39;49;00m, \u001b[94m4\u001b[39;49;00m], \u001b[94m6\u001b[39;49;00m),\n",
            "        ([\u001b[94m2\u001b[39;49;00m, \u001b[94m4\u001b[39;49;00m], \u001b[94m112\u001b[39;49;00m)\n",
            "    ])\n",
            "    \u001b[94mdef\u001b[39;49;00m \u001b[92mtest_my_sum_func\u001b[39;49;00m(x, expected_output):\n",
            "        y = my_sum_func(x)\n",
            ">       \u001b[94massert\u001b[39;49;00m y == expected_output\n",
            "\u001b[1m\u001b[31mE       assert 6.0 == 112\u001b[0m\n",
            "\n",
            "\u001b[1m\u001b[31mtests/third_test.py\u001b[0m:12: AssertionError\n",
            "\n",
            " \u001b[36mtests/\u001b[0mthird_test.py\u001b[0m \u001b[31m⨯\u001b[0m                                           \u001b[31m100% \u001b[0m\u001b[40m\u001b[32m█\u001b[0m\u001b[40m\u001b[32m████\u001b[0m\u001b[40m\u001b[31m█\u001b[0m\u001b[40m\u001b[31m████\u001b[0m\n",
            "=========================== short test summary info ============================\n",
            "FAILED tests/third_test.py::test_my_sum_func[x1-112] - assert 6.0 == 112\n",
            "\n",
            "Results (0.07s):\n",
            "\u001b[32m       1 passed\u001b[0m\n",
            "\u001b[31m       1 failed\u001b[0m\n",
            "         - \u001b[36mtests\u001b[0m/third_test.py\u001b[0m:5 \u001b[31mtest_my_sum_func[x1-112]\u001b[0m\n"
          ]
        }
      ]
    },
    {
      "cell_type": "markdown",
      "metadata": {
        "id": "ba50b4bf"
      },
      "source": [
        "# Exercise 4\n",
        "\n",
        "Now let's test the exception that should occur if the input is not a list."
      ],
      "id": "ba50b4bf"
    },
    {
      "cell_type": "markdown",
      "metadata": {
        "id": "3fd89e2d"
      },
      "source": [
        "### Write test"
      ],
      "id": "3fd89e2d"
    },
    {
      "cell_type": "code",
      "metadata": {
        "id": "c73d2adc",
        "outputId": "f05bd95c-63bb-46df-e770-bbc4c08e27ad"
      },
      "source": [
        "%%file tests/fourth_test.py\n",
        "\n",
        "from src.my_sum_script import my_sum_func\n",
        "import pytest\n",
        "\n",
        "def test_my_sum_func():\n",
        "    x = #Your code here, make sure an error is raised\n",
        "    with pytest.raises(\n",
        "        expected_exception=None, #specify the error here\n",
        "        match=None #specify the error message here\n",
        "    ):\n",
        "        my_sum_func(x)"
      ],
      "id": "c73d2adc",
      "execution_count": null,
      "outputs": [
        {
          "name": "stdout",
          "output_type": "stream",
          "text": [
            "Overwriting tests/fourth_test.py\n"
          ]
        }
      ]
    },
    {
      "cell_type": "markdown",
      "metadata": {
        "id": "a98d4ab7"
      },
      "source": [
        "### Example"
      ],
      "id": "a98d4ab7"
    },
    {
      "cell_type": "code",
      "metadata": {
        "cellView": "form",
        "id": "cb8f81bc",
        "outputId": "4c52386f-cc75-4331-8e2c-1d2b979c2541"
      },
      "source": [
        "#@title\n",
        "%%file tests/fourth_test.py\n",
        "\n",
        "from src.my_sum_script import my_sum_func\n",
        "import pytest\n",
        "\n",
        "def test_my_sum_func():\n",
        "    x = \"a\"\n",
        "    with pytest.raises(expected_exception=TypeError, match=\"Hold on there, cowboy!\"):\n",
        "        my_sum_func(x)"
      ],
      "id": "cb8f81bc",
      "execution_count": null,
      "outputs": [
        {
          "name": "stdout",
          "output_type": "stream",
          "text": [
            "Overwriting tests/fourth_test.py\n"
          ]
        }
      ]
    },
    {
      "cell_type": "markdown",
      "metadata": {
        "id": "ede3c5f1"
      },
      "source": [
        "### Run pytest\n",
        "\n",
        "Note that pytest succeeds even though `my_sum_func` threw an error."
      ],
      "id": "ede3c5f1"
    },
    {
      "cell_type": "code",
      "metadata": {
        "scrolled": true,
        "id": "b6076241",
        "outputId": "cb69bcd3-33cd-48fa-cb85-b9231b4903c1"
      },
      "source": [
        "!python -m pytest tests/fourth_test.py"
      ],
      "id": "b6076241",
      "execution_count": null,
      "outputs": [
        {
          "name": "stdout",
          "output_type": "stream",
          "text": [
            "\u001b[1mTest session starts (platform: darwin, Python 3.8.10, pytest 6.2.5, pytest-sugar 0.9.4)\u001b[0m\r\n",
            "rootdir: /Users/tsentne3/Downloads\r\n",
            "plugins: sugar-0.9.4, mock-3.6.1\r\n",
            "\u001b[1mcollecting ... \u001b[0m\r",
            "\r\n",
            "\r",
            " \u001b[36mtests/\u001b[0mfourth_test.py\u001b[0m \u001b[32m✓\u001b[0m                                          \u001b[32m100% \u001b[0m\u001b[40m\u001b[32m█\u001b[0m\u001b[40m\u001b[32m█████████\u001b[0m\r\n",
            "\r\n",
            "Results (0.01s):\r\n",
            "\u001b[32m       1 passed\u001b[0m\r\n"
          ]
        }
      ]
    },
    {
      "cell_type": "markdown",
      "metadata": {
        "id": "f5d4969b"
      },
      "source": [
        "# Additional exercises\n",
        "If you have time left, work on some of the following problems:\n",
        "\n",
        "- Think about input that you expect to give problems, and extend the parametrized test. The `my_sum_func` performs very few checks, so lots of things can go wrong. Note that you can combine the parametrized test with the exception test and use `from contextlib import nullcontext as does_not_raise` to check that an exception IS NOT raised, opposed to `pytest.raises` which checks that an exception IS raised.\n",
        "- Mock `process_one_number` to test only the code in `my_sum_func`, excluding its dependencies. Note that you have to mock a function where it is imported, not where it is defined. This may be a bit confusing at first, so take a deeper dive into that if you ever have to mock for your own project. For now, just use the following line of code in your test `mocker.patch(\"my_sum_script.process_one_number\", return_value=1)`, and add `mocker` as an argument to your test.\n",
        "\n",
        "Feel free to use the following variant of `my_sum_func`, to give you some more code to experiment with:\n",
        "```python\n",
        "def my_sum_func(x, allow_str=False):\n",
        "    # Check if input is of type list\n",
        "    if not isinstance(x, list):\n",
        "        raise TypeError(\"Hold on there, cowboy!\")\n",
        "    # Initialze output as str if expecting str\n",
        "    if allow_str:\n",
        "        out = \"\"\n",
        "    else:\n",
        "        out = 0\n",
        "    # Loop over input\n",
        "    for i in x:\n",
        "        # Convert all numbers to float\n",
        "        if not allow_str:\n",
        "            i = process_one_number(i)\n",
        "        # Add current value to output\n",
        "        out = out + i\n",
        "    return out\n",
        "```"
      ],
      "id": "f5d4969b"
    }
  ]
}